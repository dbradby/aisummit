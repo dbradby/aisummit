{
  "nbformat": 4,
  "nbformat_minor": 0,
  "metadata": {
    "colab": {
      "name": "HousePrices-by-Bedrooms.ipynb",
      "version": "0.3.2",
      "provenance": [],
      "collapsed_sections": [],
      "include_colab_link": true
    },
    "kernelspec": {
      "name": "python3",
      "display_name": "Python 3"
    }
  },
  "cells": [
    {
      "cell_type": "markdown",
      "metadata": {
        "id": "view-in-github",
        "colab_type": "text"
      },
      "source": [
        "[View in Colaboratory](https://colab.research.google.com/github/dbradby/aisummit/blob/master/HousePrices_by_Bedrooms.ipynb)"
      ]
    },
    {
      "metadata": {
        "id": "xVV_prgJbZ7I",
        "colab_type": "code",
        "colab": {}
      },
      "cell_type": "code",
      "source": [
        "!gsutil cp gs://<bucket-name>/house_prices.csv ."
      ],
      "execution_count": 0,
      "outputs": []
    },
    {
      "metadata": {
        "id": "NYoKMkE6btTK",
        "colab_type": "code",
        "colab": {}
      },
      "cell_type": "code",
      "source": [
        "import pandas as pd\n",
        "house_prices = pd.read_csv('house_prices.csv')\n",
        "house_prices.plot.scatter(x='BedroomAbvGr',y='SalePrice')"
      ],
      "execution_count": 0,
      "outputs": []
    },
    {
      "metadata": {
        "id": "Omgt_zpWcmqF",
        "colab_type": "code",
        "colab": {}
      },
      "cell_type": "code",
      "source": [
        "from sklearn import linear_model\n",
        "\n",
        "predictor = linear_model.LinearRegression()\n",
        "predictor.fit(house_prices[['BedroomAbvGr']],house_prices['SalePrice'])\n",
        "\n",
        "predictor.predict(3)"
      ],
      "execution_count": 0,
      "outputs": []
    },
    {
      "metadata": {
        "id": "LO75Y8ZQdawR",
        "colab_type": "code",
        "colab": {}
      },
      "cell_type": "code",
      "source": [
        "import matplotlib.pyplot as plt\n",
        "import numpy as np\n",
        "xfit = np.linspace(0, 10, 1000)\n",
        "yfit = predictor.predict(xfit[:, np.newaxis])\n",
        "\n",
        "house_prices.plot.scatter(x='BedroomAbvGr',y='SalePrice')\n",
        "plt.plot(xfit, yfit);"
      ],
      "execution_count": 0,
      "outputs": []
    },
    {
      "metadata": {
        "id": "glo4yuHXeGb3",
        "colab_type": "code",
        "colab": {}
      },
      "cell_type": "code",
      "source": [
        ""
      ],
      "execution_count": 0,
      "outputs": []
    }
  ]
}